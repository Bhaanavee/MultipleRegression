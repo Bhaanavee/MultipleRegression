{
 "cells": [
  {
   "cell_type": "code",
   "execution_count": null,
   "id": "f451d12f-f1ae-40c0-9499-a97cf7fe5654",
   "metadata": {},
   "outputs": [],
   "source": [
    "import numpy as np\n",
    "import matplotlib.pyplot as plt\n",
    "import pandas as pd\n",
    "%matplotlib inline\n",
    "\n",
    "url= \"https://cf-courses-data.s3.us.cloud-object-storage.appdomain.cloud/IBMDeveloperSkillsNetwork-ML0101EN-SkillsNetwork/labs/Module%202/data/FuelConsumptionCo2.csv\"\n",
    "\n",
    "df = pd.read_csv(url)\n",
    "df.sample(5)\n",
    "\n",
    "df.describe()\n",
    "\n",
    "\n",
    "\n",
    "\n",
    "\n",
    "\n",
    "\n",
    "\n"
   ]
  },
  {
   "cell_type": "code",
   "execution_count": null,
   "id": "9febb5b3-719d-48fd-be28-980b7fcf13c6",
   "metadata": {},
   "outputs": [],
   "source": [
    "\n",
    "# Drop categoricals and any unseless columns\n",
    "df = df.drop(['MODELYEAR', 'MAKE', 'MODEL', 'VEHICLECLASS', 'TRANSMISSION', 'FUELTYPE',],axis=1)\n",
    "\n",
    "df.sample(5)\n",
    "\n",
    "df.corr()\n",
    "\n",
    "df = df.drop(['CYLINDERS', 'FUELCONSUMPTION_CITY', 'FUELCONSUMPTION_HWY','FUELCONSUMPTION_COMB',],axis=1)\n",
    "\n",
    "df.sample(5)\n",
    "\n",
    "df.head(9)"
   ]
  },
  {
   "cell_type": "code",
   "execution_count": null,
   "id": "aff925cf-7bca-4566-a484-c06abd3cf609",
   "metadata": {},
   "outputs": [],
   "source": [
    "axes = pd.plotting.scatter_matrix(df, alpha=0.2)\n",
    "# need to rotate axis labels so we can read them\n",
    "for ax in axes.flatten():\n",
    "    ax.xaxis.label.set_rotation(90)\n",
    "    ax.yaxis.label.set_rotation(0)\n",
    "    ax.yaxis.label.set_ha('right')\n",
    "\n",
    "plt.tight_layout()\n",
    "plt.gcf().subplots_adjust(wspace=0, hspace=0)\n",
    "plt.show()"
   ]
  },
  {
   "cell_type": "code",
   "execution_count": null,
   "id": "1936393f-3f0c-48f6-b031-996b5bac3c00",
   "metadata": {},
   "outputs": [],
   "source": [
    "\n",
    "X = df.iloc[:,[0,1]].to_numpy()\n",
    "y = df.iloc[:,[2]].to_numpy()\n"
   ]
  },
  {
   "cell_type": "code",
   "execution_count": null,
   "id": "29129b7e-c622-49bf-bf6b-832dc19e7d72",
   "metadata": {},
   "outputs": [],
   "source": [
    "from sklearn import preprocessing\n",
    "std=preprocessing.StandardScaler()\n",
    "X_std=std.fit_transform(X)\n",
    "\n",
    "pd.DataFrame(X_std).describe().round(2)\n"
   ]
  },
  {
   "cell_type": "code",
   "execution_count": null,
   "id": "f34edb27-6da6-4155-b3ac-596e8298920c",
   "metadata": {},
   "outputs": [],
   "source": [
    "from sklearn.model_selection import train_test_split\n",
    "X_train, X_test, y_train, y_test = train_test_split(X_std,y,test_size=0.2,random_state=42)\n",
    "\n",
    "from sklearn import linear_model\n",
    "\n",
    "# create a model object\n",
    "regressor = linear_model.LinearRegression()\n",
    "\n",
    "# train the model in the training data\n",
    "regressor.fit(X_train, y_train)\n",
    "\n",
    "# Print the coefficients\n",
    "coef_ =  regressor.coef_\n",
    "intercept_ = regressor.intercept_\n",
    "\n",
    "print ('Coefficients: ',coef_)\n",
    "print ('Intercept: ',intercept_)"
   ]
  },
  {
   "cell_type": "code",
   "execution_count": null,
   "id": "6c949e6f-fc6e-4080-a4c4-5db4fe42c641",
   "metadata": {},
   "outputs": [],
   "source": [
    "\n",
    "# Get the standard scaler's mean and standard deviation parameters\n",
    "means_ = std.mean_\n",
    "std_devs_ = np.sqrt(std.var_)\n",
    "\n",
    "# The least squares parameters can be calculated relative to the original, unstandardized feature space as:\n",
    "coef_original = coef_ / std_devs_\n",
    "intercept_original = intercept_ - np.sum((means_ * coef_) / std_devs_)\n",
    "\n",
    "print ('Coefficients: ', coef_original)\n",
    "print ('Intercept: ', intercept_original)\n"
   ]
  },
  {
   "cell_type": "code",
   "execution_count": null,
   "id": "e126cf72-e9c5-4b46-8478-7f700bd1298c",
   "metadata": {},
   "outputs": [],
   "source": [
    "import numpy as np\n",
    "import matplotlib.pyplot as plt\n",
    "\n",
    "# Ensure X1, X2, and y_test have compatible shapes for 3D plotting\n",
    "X1 = X_test[:, 0] if X_test.ndim > 1 else X_test\n",
    "X2 = X_test[:, 1] if X_test.ndim > 1 else np.zeros_like(X1)\n",
    "\n",
    "# Create a mesh grid for plotting the regression plane\n",
    "x1_surf, x2_surf = np.meshgrid(np.linspace(X1.min(), X1.max(), 100), \n",
    "                               np.linspace(X2.min(), X2.max(), 100))\n",
    "\n",
    "y_surf = intercept_ +  coef_[0,0] * x1_surf  +  coef_[0,1] * x2_surf\n",
    "\n",
    "y_pred = regressor.predict(X_test.reshape(-1, 1)) if X_test.ndim == 1 else regressor.predict(X_test)\n",
    "above_plane = y_test >= y_pred\n",
    "below_plane = y_test < y_pred\n",
    "above_plane = above_plane[:,0]\n",
    "below_plane = below_plane[:,0]\n",
    "\n",
    "\n",
    "fig = plt.figure(figsize=(20, 8))\n",
    "ax = fig.add_subplot(111, projection='3d')\n",
    "\n",
    "ax.scatter(X1[above_plane], X2[above_plane], y_test[above_plane],  label=\"Above Plane\",s=70,alpha=.7,ec='k')\n",
    "ax.scatter(X1[below_plane], X2[below_plane], y_test[below_plane],  label=\"Below Plane\",s=50,alpha=.3,ec='k')\n",
    "\n",
    "ax.plot_surface(x1_surf, x2_surf, y_surf, color='k', alpha=0.21,label='plane')\n",
    "\n",
    "ax.view_init(elev=10)\n",
    "\n",
    "ax.legend(fontsize='x-large',loc='upper center')\n",
    "ax.set_xticks([])\n",
    "ax.set_yticks([])\n",
    "ax.set_zticks([])\n",
    "ax.set_box_aspect(None, zoom=0.75)\n",
    "ax.set_xlabel('ENGINESIZE', fontsize='xx-large')\n",
    "ax.set_ylabel('FUELCONSUMPTION', fontsize='xx-large')\n",
    "ax.set_zlabel('CO2 Emissions', fontsize='xx-large')\n",
    "ax.set_title('Multiple Linear Regression of CO2 Emissions', fontsize='xx-large')\n",
    "plt.tight_layout()\n",
    "plt.show()"
   ]
  },
  {
   "cell_type": "code",
   "execution_count": null,
   "id": "eeab0463-4abf-42a2-ba19-d94102627b44",
   "metadata": {},
   "outputs": [],
   "source": [
    "plt.scatter(X_train[:,0], y_train,  color='blue')\n",
    "plt.plot(X_train[:,0], coef_[0,0] * X_train[:,0] + intercept_[0], '-r')\n",
    "plt.xlabel(\"Engine size\")\n",
    "plt.ylabel(\"Emission\")\n",
    "plt.show()\n",
    "\n",
    "plt.scatter(X_train[:,1], y_train,  color='blue')\n",
    "plt.plot(X_train[:,1], coef_[0,1] * X_train[:,1] + intercept_[0], '-r')\n",
    "plt.xlabel(\"FUELCONSUMPTION_COMB_MPG\")\n",
    "plt.ylabel(\"Emission\")\n",
    "plt.show()"
   ]
  }
 ],
 "metadata": {
  "kernelspec": {
   "display_name": "Python 3 (ipykernel)",
   "language": "python",
   "name": "python3"
  },
  "language_info": {
   "codemirror_mode": {
    "name": "ipython",
    "version": 3
   },
   "file_extension": ".py",
   "mimetype": "text/x-python",
   "name": "python",
   "nbconvert_exporter": "python",
   "pygments_lexer": "ipython3",
   "version": "3.9.6"
  }
 },
 "nbformat": 4,
 "nbformat_minor": 5
}
